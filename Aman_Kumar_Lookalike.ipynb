{
 "cells": [
  {
   "cell_type": "code",
   "execution_count": 1,
   "id": "092134e4-e700-4290-b609-a97bbe93ee20",
   "metadata": {},
   "outputs": [],
   "source": [
    "import pandas as pd\n",
    "from sklearn.metrics.pairwise import cosine_similarity\n",
    "from sklearn.preprocessing import StandardScaler"
   ]
  },
  {
   "cell_type": "code",
   "execution_count": 2,
   "id": "eb6b9965-c37d-4709-bb9f-f3aed2cfdceb",
   "metadata": {},
   "outputs": [],
   "source": [
    "customers = pd.read_csv('Customers.csv')\n",
    "products = pd.read_csv('Products.csv')\n",
    "transactions = pd.read_csv('Transactions.csv')"
   ]
  },
  {
   "cell_type": "code",
   "execution_count": 4,
   "id": "523766b1-7696-4570-84f7-ef48116c032d",
   "metadata": {},
   "outputs": [],
   "source": [
    "mergedata= transactions.merge(customers, on='CustomerID', how='left')\n",
    "mergedata = transaction_details.merge(products, on='ProductID', how='left')\n"
   ]
  },
  {
   "cell_type": "code",
   "execution_count": 5,
   "id": "d80f4bca-dd4a-451f-abc1-5126a0272905",
   "metadata": {},
   "outputs": [
    {
     "name": "stdout",
     "output_type": "stream",
     "text": [
      "  TransactionID CustomerID ProductID      TransactionDate  Quantity  \\\n",
      "0        T00001      C0199      P067  2024-08-25 12:38:23         1   \n",
      "1        T00112      C0146      P067  2024-05-27 22:23:54         1   \n",
      "2        T00166      C0127      P067  2024-04-25 07:38:55         1   \n",
      "3        T00272      C0087      P067  2024-03-26 22:55:37         2   \n",
      "4        T00363      C0070      P067  2024-03-21 15:10:10         3   \n",
      "\n",
      "   TotalValue  Price_x     CustomerName         Region  SignupDate  \\\n",
      "0      300.68   300.68   Andrea Jenkins         Europe  2022-12-03   \n",
      "1      300.68   300.68  Brittany Harvey           Asia  2024-09-04   \n",
      "2      300.68   300.68  Kathryn Stevens         Europe  2024-04-04   \n",
      "3      601.36   300.68  Travis Campbell  South America  2024-04-11   \n",
      "4      902.04   300.68    Timothy Perez         Europe  2022-03-15   \n",
      "\n",
      "                     ProductName_x   Category_x  Price_y  \\\n",
      "0  ComfortLiving Bluetooth Speaker  Electronics   300.68   \n",
      "1  ComfortLiving Bluetooth Speaker  Electronics   300.68   \n",
      "2  ComfortLiving Bluetooth Speaker  Electronics   300.68   \n",
      "3  ComfortLiving Bluetooth Speaker  Electronics   300.68   \n",
      "4  ComfortLiving Bluetooth Speaker  Electronics   300.68   \n",
      "\n",
      "                     ProductName_y   Category_y   Price  \n",
      "0  ComfortLiving Bluetooth Speaker  Electronics  300.68  \n",
      "1  ComfortLiving Bluetooth Speaker  Electronics  300.68  \n",
      "2  ComfortLiving Bluetooth Speaker  Electronics  300.68  \n",
      "3  ComfortLiving Bluetooth Speaker  Electronics  300.68  \n",
      "4  ComfortLiving Bluetooth Speaker  Electronics  300.68  \n"
     ]
    }
   ],
   "source": [
    "print(mergedata.head())"
   ]
  },
  {
   "cell_type": "markdown",
   "id": "6d44543a-df00-4fee-b844-54c3c0cfd0e8",
   "metadata": {},
   "source": [
    "# Aggregate data to create customer profiles"
   ]
  },
  {
   "cell_type": "code",
   "execution_count": 6,
   "id": "9d1f70be-b0ac-4b8c-9049-888912778269",
   "metadata": {},
   "outputs": [
    {
     "name": "stdout",
     "output_type": "stream",
     "text": [
      "  CustomerID         Region  TotalValue  Quantity  ProductID\n",
      "0      C0001  South America     3354.52        12          5\n",
      "1      C0002           Asia     1862.74        10          4\n",
      "2      C0003  South America     2725.38        14          4\n",
      "3      C0004  South America     5354.88        23          8\n",
      "4      C0005           Asia     2034.24         7          3\n"
     ]
    }
   ],
   "source": [
    "customer_profiles = transaction_details.groupby('CustomerID').agg({\n",
    "    'Region': 'first', \n",
    "    'TotalValue': 'sum',  \n",
    "    'Quantity': 'sum',  \n",
    "    'ProductID': 'nunique'  \n",
    "}).reset_index()\n",
    "\n",
    "print(customer_profiles.head())"
   ]
  },
  {
   "cell_type": "markdown",
   "id": "1bbdafef-2234-48e7-99d9-15756da8c496",
   "metadata": {},
   "source": [
    "# Normalize the features"
   ]
  },
  {
   "cell_type": "code",
   "execution_count": 8,
   "id": "15835e11-1149-4fe3-b9c7-82c58a72a20f",
   "metadata": {},
   "outputs": [
    {
     "name": "stdout",
     "output_type": "stream",
     "text": [
      "  CustomerID         Region  TotalValue  Quantity  ProductID\n",
      "0      C0001  South America   -0.061701 -0.122033          5\n",
      "1      C0002           Asia   -0.877744 -0.448000          4\n",
      "2      C0003  South America   -0.405857  0.203934          4\n",
      "3      C0004  South America    1.032547  1.670787          8\n",
      "4      C0005           Asia   -0.783929 -0.936951          3\n"
     ]
    }
   ],
   "source": [
    "scaler = StandardScaler()\n",
    "customer_profiles[['TotalValue', 'Quantity']] = scaler.fit_transform(customer_profiles[['TotalValue', 'Quantity']])\n",
    "print(customer_profiles.head())"
   ]
  },
  {
   "cell_type": "markdown",
   "id": "ffdfddac-b18e-4a2e-89b5-aa178e5b98bb",
   "metadata": {},
   "source": [
    "# Calculate cosine similarity between customers"
   ]
  },
  {
   "cell_type": "code",
   "execution_count": 9,
   "id": "2260d1e4-be65-471a-a269-3cc57d8362aa",
   "metadata": {},
   "outputs": [],
   "source": [
    "similarity_matrix = cosine_similarity(customer_profiles[['TotalValue', 'Quantity', 'ProductID']], \n",
    "                                      customer_profiles[['TotalValue', 'Quantity', 'ProductID']])\n",
    "similarities_for_first_20 = similarity_matrix[:20]"
   ]
  },
  {
   "cell_type": "markdown",
   "id": "2e435649-5b2f-4c48-965a-763eaa24e8d1",
   "metadata": {},
   "source": [
    "# Recommend top 3 lookalikes for first 20 customers"
   ]
  },
  {
   "cell_type": "code",
   "execution_count": 10,
   "id": "ff4c09ed-7f14-4f38-9491-6e0abca5737c",
   "metadata": {},
   "outputs": [
    {
     "name": "stdout",
     "output_type": "stream",
     "text": [
      "  CustomerID LookalikeID  SimilarityScore\n",
      "0      C0001       C0056         0.999824\n",
      "1      C0001       C0184         0.999718\n",
      "2      C0001       C0026         0.999705\n",
      "3      C0002       C0029         0.999950\n",
      "4      C0002       C0031         0.999827\n"
     ]
    }
   ],
   "source": [
    "lookalikes = {}\n",
    "for i in range(20):\n",
    "    similar_customers = list(enumerate(similarities_for_first_20[i]))\n",
    "    similar_customers = sorted(similar_customers, key=lambda x: x[1], reverse=True)[1:4]  # Exclude self\n",
    "    lookalikes[customer_profiles['CustomerID'][i]] = [(customer_profiles['CustomerID'][j[0]], j[1]) for j in similar_customers]\n",
    "lookalike_df = pd.DataFrame([(key, item[0], item[1]) for key, value in lookalikes.items() for item in value],\n",
    "                            columns=['CustomerID', 'LookalikeID', 'SimilarityScore'])\n",
    "\n",
    "lookalike_df.to_csv('Lookalike.csv', index=False)\n",
    "print(lookalike_df.head())"
   ]
  },
  {
   "cell_type": "code",
   "execution_count": null,
   "id": "4a7f2fa2-ffe1-47cb-af49-b1aa81a0e87f",
   "metadata": {},
   "outputs": [],
   "source": []
  }
 ],
 "metadata": {
  "kernelspec": {
   "display_name": "Python 3 (ipykernel)",
   "language": "python",
   "name": "python3"
  },
  "language_info": {
   "codemirror_mode": {
    "name": "ipython",
    "version": 3
   },
   "file_extension": ".py",
   "mimetype": "text/x-python",
   "name": "python",
   "nbconvert_exporter": "python",
   "pygments_lexer": "ipython3",
   "version": "3.10.11"
  }
 },
 "nbformat": 4,
 "nbformat_minor": 5
}
